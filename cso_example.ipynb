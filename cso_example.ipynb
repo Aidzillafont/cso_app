{
 "cells": [
  {
   "cell_type": "markdown",
   "metadata": {},
   "source": [
    "## How to\n",
    "* Simply import the CSO_df class and call its method get_cso_table. This method takes one input which is a table code which can be found on https://data.cso.ie/ . This returns a dataframe of the table of the data you requestes"
   ]
  },
  {
   "cell_type": "code",
   "execution_count": 5,
   "metadata": {},
   "outputs": [
    {
     "name": "stdout",
     "output_type": "stream",
     "text": [
      "Please vist https://data.cso.ie/ to get table codes\n"
     ]
    },
    {
     "data": {
      "text/html": [
       "<div>\n",
       "<style scoped>\n",
       "    .dataframe tbody tr th:only-of-type {\n",
       "        vertical-align: middle;\n",
       "    }\n",
       "\n",
       "    .dataframe tbody tr th {\n",
       "        vertical-align: top;\n",
       "    }\n",
       "\n",
       "    .dataframe thead th {\n",
       "        text-align: right;\n",
       "    }\n",
       "</style>\n",
       "<table border=\"1\" class=\"dataframe\">\n",
       "  <thead>\n",
       "    <tr style=\"text-align: right;\">\n",
       "      <th></th>\n",
       "      <th>STATISTIC CODE</th>\n",
       "      <th>Statistic</th>\n",
       "      <th>TLIST(A1)</th>\n",
       "      <th>Year</th>\n",
       "      <th>C02339V02812</th>\n",
       "      <th>County</th>\n",
       "      <th>C03346V04033</th>\n",
       "      <th>Dwelling Status</th>\n",
       "      <th>C03341V04028</th>\n",
       "      <th>Stamp Duty Event</th>\n",
       "      <th>C03344V04031</th>\n",
       "      <th>Type of Buyer</th>\n",
       "      <th>C03342V04029</th>\n",
       "      <th>Type of Sale</th>\n",
       "      <th>UNIT</th>\n",
       "      <th>VALUE</th>\n",
       "    </tr>\n",
       "  </thead>\n",
       "  <tbody>\n",
       "    <tr>\n",
       "      <th>0</th>\n",
       "      <td>HPA02C01</td>\n",
       "      <td>Volume of Sales</td>\n",
       "      <td>2010</td>\n",
       "      <td>2010</td>\n",
       "      <td>-</td>\n",
       "      <td>All Counties</td>\n",
       "      <td>-</td>\n",
       "      <td>All Dwelling Statuses</td>\n",
       "      <td>01</td>\n",
       "      <td>Filings</td>\n",
       "      <td>-</td>\n",
       "      <td>All Buyer Types</td>\n",
       "      <td>-</td>\n",
       "      <td>All Sale Types</td>\n",
       "      <td>Number</td>\n",
       "      <td>28618.0</td>\n",
       "    </tr>\n",
       "    <tr>\n",
       "      <th>1</th>\n",
       "      <td>HPA02C01</td>\n",
       "      <td>Volume of Sales</td>\n",
       "      <td>2010</td>\n",
       "      <td>2010</td>\n",
       "      <td>-</td>\n",
       "      <td>All Counties</td>\n",
       "      <td>-</td>\n",
       "      <td>All Dwelling Statuses</td>\n",
       "      <td>01</td>\n",
       "      <td>Filings</td>\n",
       "      <td>-</td>\n",
       "      <td>All Buyer Types</td>\n",
       "      <td>01</td>\n",
       "      <td>Market</td>\n",
       "      <td>Number</td>\n",
       "      <td>20076.0</td>\n",
       "    </tr>\n",
       "    <tr>\n",
       "      <th>2</th>\n",
       "      <td>HPA02C01</td>\n",
       "      <td>Volume of Sales</td>\n",
       "      <td>2010</td>\n",
       "      <td>2010</td>\n",
       "      <td>-</td>\n",
       "      <td>All Counties</td>\n",
       "      <td>-</td>\n",
       "      <td>All Dwelling Statuses</td>\n",
       "      <td>01</td>\n",
       "      <td>Filings</td>\n",
       "      <td>-</td>\n",
       "      <td>All Buyer Types</td>\n",
       "      <td>02</td>\n",
       "      <td>Non-Market</td>\n",
       "      <td>Number</td>\n",
       "      <td>8542.0</td>\n",
       "    </tr>\n",
       "    <tr>\n",
       "      <th>3</th>\n",
       "      <td>HPA02C01</td>\n",
       "      <td>Volume of Sales</td>\n",
       "      <td>2010</td>\n",
       "      <td>2010</td>\n",
       "      <td>-</td>\n",
       "      <td>All Counties</td>\n",
       "      <td>-</td>\n",
       "      <td>All Dwelling Statuses</td>\n",
       "      <td>01</td>\n",
       "      <td>Filings</td>\n",
       "      <td>01</td>\n",
       "      <td>Household Buyer - All</td>\n",
       "      <td>-</td>\n",
       "      <td>All Sale Types</td>\n",
       "      <td>Number</td>\n",
       "      <td>27643.0</td>\n",
       "    </tr>\n",
       "    <tr>\n",
       "      <th>4</th>\n",
       "      <td>HPA02C01</td>\n",
       "      <td>Volume of Sales</td>\n",
       "      <td>2010</td>\n",
       "      <td>2010</td>\n",
       "      <td>-</td>\n",
       "      <td>All Counties</td>\n",
       "      <td>-</td>\n",
       "      <td>All Dwelling Statuses</td>\n",
       "      <td>01</td>\n",
       "      <td>Filings</td>\n",
       "      <td>01</td>\n",
       "      <td>Household Buyer - All</td>\n",
       "      <td>01</td>\n",
       "      <td>Market</td>\n",
       "      <td>Number</td>\n",
       "      <td>19302.0</td>\n",
       "    </tr>\n",
       "  </tbody>\n",
       "</table>\n",
       "</div>"
      ],
      "text/plain": [
       "  STATISTIC CODE        Statistic TLIST(A1)  Year C02339V02812        County  \\\n",
       "0       HPA02C01  Volume of Sales      2010  2010            -  All Counties   \n",
       "1       HPA02C01  Volume of Sales      2010  2010            -  All Counties   \n",
       "2       HPA02C01  Volume of Sales      2010  2010            -  All Counties   \n",
       "3       HPA02C01  Volume of Sales      2010  2010            -  All Counties   \n",
       "4       HPA02C01  Volume of Sales      2010  2010            -  All Counties   \n",
       "\n",
       "  C03346V04033        Dwelling Status C03341V04028 Stamp Duty Event  \\\n",
       "0            -  All Dwelling Statuses           01          Filings   \n",
       "1            -  All Dwelling Statuses           01          Filings   \n",
       "2            -  All Dwelling Statuses           01          Filings   \n",
       "3            -  All Dwelling Statuses           01          Filings   \n",
       "4            -  All Dwelling Statuses           01          Filings   \n",
       "\n",
       "  C03344V04031          Type of Buyer C03342V04029    Type of Sale    UNIT  \\\n",
       "0            -        All Buyer Types            -  All Sale Types  Number   \n",
       "1            -        All Buyer Types           01          Market  Number   \n",
       "2            -        All Buyer Types           02      Non-Market  Number   \n",
       "3           01  Household Buyer - All            -  All Sale Types  Number   \n",
       "4           01  Household Buyer - All           01          Market  Number   \n",
       "\n",
       "     VALUE  \n",
       "0  28618.0  \n",
       "1  20076.0  \n",
       "2   8542.0  \n",
       "3  27643.0  \n",
       "4  19302.0  "
      ]
     },
     "execution_count": 5,
     "metadata": {},
     "output_type": "execute_result"
    }
   ],
   "source": [
    "from cso_data import CSO_df\n",
    "df = CSO_df().get_cso_table('HPA02')\n",
    "df.head(5)"
   ]
  },
  {
   "cell_type": "code",
   "execution_count": 7,
   "metadata": {},
   "outputs": [
    {
     "name": "stderr",
     "output_type": "stream",
     "text": [
      "c:\\Users\\Aidan\\anaconda3\\lib\\site-packages\\pandas\\plotting\\_matplotlib\\core.py:1192: UserWarning: FixedFormatter should only be used together with FixedLocator\n",
      "  ax.set_xticklabels(xticklabels)\n"
     ]
    },
    {
     "data": {
      "text/plain": [
       "<AxesSubplot:xlabel='Year'>"
      ]
     },
     "execution_count": 7,
     "metadata": {},
     "output_type": "execute_result"
    },
    {
     "data": {
      "image/png": "[encoded data removed]",
      "text/plain": [
       "<Figure size 432x288 with 1 Axes>"
      ]
     },
     "metadata": {
      "needs_background": "light"
     },
     "output_type": "display_data"
    }
   ],
   "source": [
    "numbers_only = df.UNIT == 'Number'\n",
    "df_buyers = df.loc[numbers_only].groupby(['Year', 'Type of Sale'])['VALUE'].sum()\n",
    "df_buyers.unstack('Type of Sale').plot(legend=True)"
   ]
  },
  {
   "cell_type": "code",
   "execution_count": null,
   "metadata": {},
   "outputs": [],
   "source": []
  }
 ],
 "metadata": {
  "kernelspec": {
   "display_name": "Python 3.8.3 ('base')",
   "language": "python",
   "name": "python3"
  },
  "language_info": {
   "codemirror_mode": {
    "name": "ipython",
    "version": 3
   },
   "file_extension": ".py",
   "mimetype": "text/x-python",
   "name": "python",
   "nbconvert_exporter": "python",
   "pygments_lexer": "ipython3",
   "version": "3.8.3"
  },
  "orig_nbformat": 4,
  "vscode": {
   "interpreter": {
    "hash": "f6ed3f38b1ef4c16f8a5be48bf66a1aded4ea0eb199bbc31dab9e5edd4e77510"
   }
  }
 },
 "nbformat": 4,
 "nbformat_minor": 2
}
